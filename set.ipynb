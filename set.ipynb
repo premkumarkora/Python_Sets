{
  "nbformat": 4,
  "nbformat_minor": 0,
  "metadata": {
    "colab": {
      "provenance": [],
      "collapsed_sections": [],
      "authorship_tag": "ABX9TyPFGlHEvoFgoMIsfIGX7GjF"
    },
    "kernelspec": {
      "name": "python3",
      "display_name": "Python 3"
    },
    "language_info": {
      "name": "python"
    }
  },
  "cells": [
    {
      "cell_type": "code",
      "execution_count": null,
      "metadata": {
        "colab": {
          "base_uri": "https://localhost:8080/"
        },
        "id": "CgcfeYqvSj4f",
        "outputId": "25ce9e30-c7a2-4e1e-ae27-c00b89f12642"
      },
      "outputs": [
        {
          "output_type": "execute_result",
          "data": {
            "text/plain": [
              "['__and__',\n",
              " '__class__',\n",
              " '__contains__',\n",
              " '__delattr__',\n",
              " '__dir__',\n",
              " '__doc__',\n",
              " '__eq__',\n",
              " '__format__',\n",
              " '__ge__',\n",
              " '__getattribute__',\n",
              " '__gt__',\n",
              " '__hash__',\n",
              " '__iand__',\n",
              " '__init__',\n",
              " '__init_subclass__',\n",
              " '__ior__',\n",
              " '__isub__',\n",
              " '__iter__',\n",
              " '__ixor__',\n",
              " '__le__',\n",
              " '__len__',\n",
              " '__lt__',\n",
              " '__ne__',\n",
              " '__new__',\n",
              " '__or__',\n",
              " '__rand__',\n",
              " '__reduce__',\n",
              " '__reduce_ex__',\n",
              " '__repr__',\n",
              " '__ror__',\n",
              " '__rsub__',\n",
              " '__rxor__',\n",
              " '__setattr__',\n",
              " '__sizeof__',\n",
              " '__str__',\n",
              " '__sub__',\n",
              " '__subclasshook__',\n",
              " '__xor__',\n",
              " 'add',\n",
              " 'clear',\n",
              " 'copy',\n",
              " 'difference',\n",
              " 'difference_update',\n",
              " 'discard',\n",
              " 'intersection',\n",
              " 'intersection_update',\n",
              " 'isdisjoint',\n",
              " 'issubset',\n",
              " 'issuperset',\n",
              " 'pop',\n",
              " 'remove',\n",
              " 'symmetric_difference',\n",
              " 'symmetric_difference_update',\n",
              " 'union',\n",
              " 'update']"
            ]
          },
          "metadata": {},
          "execution_count": 1
        }
      ],
      "source": [
        "dir(set)"
      ]
    },
    {
      "cell_type": "markdown",
      "source": [
        "# Built-in Functions with Set\n",
        "Function\tDescription\n",
        "\n",
        "***all()\t***Returns True if all elements of the set are true (or if the set is empty).\n",
        "\n",
        "***any()\t***Returns True if any element of the set is true. If the set is empty, returns False.\n",
        "\n",
        "***enumerate()\t*** Returns an enumerate object. It contains the index and value for all the items of the set as a pair.\n",
        "\n",
        "**len()**\tReturns the length (the number of items) in the set.\n",
        "\n",
        "**max()**\tReturns the largest item in the set.\n",
        "\n",
        "**min()**\tReturns the smallest item in the set.\n",
        "\n",
        "**sorted()**\tReturns a new sorted list from elements in the set(does not sort the set itself).\n",
        "\n",
        "**sum()**\tReturns the sum of all elements in the set.\n",
        "\n",
        "\n",
        "\n"
      ],
      "metadata": {
        "id": "_xPvJ2zSaiqI"
      }
    },
    {
      "cell_type": "markdown",
      "source": [
        "# Other Python Set Methods\n",
        "There are many set methods, some of which we have already used above. Here is a list of all the methods that are available with the set objects:\n",
        "\n",
        "\n",
        "**Method\tDescription**\n",
        "\n",
        "add()\tAdds an element to the set\n",
        "\n",
        "**clear()**\tRemoves all elements from the set\n",
        "\n",
        "**copy()**\tReturns a copy of the set\n",
        "\n",
        "**difference()**\tReturns the difference of two or more sets as a new set\n",
        "\n",
        "**difference_update()**\tRemoves all elements of another set from this set\n",
        "\n",
        "**discard()**\tRemoves an element from the set if it is a member. (Do nothing if the element is not in set)\n",
        "\n",
        "**intersection()**\tReturns the intersection of two sets as a new set\n",
        "\n",
        "**intersection_update()**\tUpdates the set with the intersection of itself and another\n",
        "\n",
        "**isdisjoint()**\tReturns True if two sets have a null intersection\n",
        "\n",
        "**issubset()**\tReturns True if another set contains this set\n",
        "\n",
        "**issuperset()**\tReturns True if this set contains another set\n",
        "\n",
        "**pop()**\tRemoves and returns an arbitrary set element. Raises KeyError if the set is empty\n",
        "\n",
        "**remove()**\tRemoves an element from the set. If the element is not a member, raises a KeyError\n",
        "\n",
        "**symmetric_difference()**\tReturns the symmetric difference of two sets as a new set\n",
        "\n",
        "**symmetric_difference_update()**\tUpdates a set with the symmetric difference of itself and another\n",
        "\n",
        "**union()**\tReturns the union of sets in a new set\n",
        "\n",
        "**update()**\tUpdates the set with the union of itself and others"
      ],
      "metadata": {
        "id": "bKk3qpUybQCH"
      }
    },
    {
      "cell_type": "markdown",
      "source": [
        "# Creating Python Sets\n",
        "A set is created by placing all the items (elements) inside curly braces {}, separated by comma, or by using the built-in set() function.\n",
        "\n",
        "It can have any number of items and they may be of different types (integer, float, tuple, string etc.). But a ***set cannot have mutable elements*** like lists, sets or dictionaries as its elements."
      ],
      "metadata": {
        "id": "KjHe6MiHTvks"
      }
    },
    {
      "cell_type": "code",
      "source": [
        "# Different types of sets in Python\n",
        "# set of integers\n",
        "my_set = {1, 2, 3}\n",
        "print(my_set)\n",
        "\n",
        "# set of mixed datatypes\n",
        "my_set = {1.0, \"Hello\", (1, 2, 3)}\n",
        "print(my_set)"
      ],
      "metadata": {
        "colab": {
          "base_uri": "https://localhost:8080/"
        },
        "id": "5fwyjrX5TvAX",
        "outputId": "0b42c27b-6dbe-404d-f448-b1789ffb6187"
      },
      "execution_count": null,
      "outputs": [
        {
          "output_type": "stream",
          "name": "stdout",
          "text": [
            "{1, 2, 3}\n",
            "{1.0, 'Hello', (1, 2, 3)}\n"
          ]
        }
      ]
    },
    {
      "cell_type": "code",
      "source": [
        "# set cannot have duplicates\n",
        "# Output: {1, 2, 3, 4}\n",
        "my_set = {1, 2, 3, 4, 3, 2}\n",
        "print(my_set)\n",
        "\n",
        "# we can make set from a list\n",
        "# Output: {1, 2, 3}\n",
        "my_set = set([1, 2, 3, 2])\n",
        "print(my_set)\n",
        "\n",
        "# set cannot have mutable items\n",
        "# here [3, 4] is a mutable list\n",
        "# this will cause an error.\n",
        "\n",
        "my_set = {1, 2, [3, 4]}"
      ],
      "metadata": {
        "colab": {
          "base_uri": "https://localhost:8080/",
          "height": 235
        },
        "id": "luFhljHGUMoP",
        "outputId": "ee0f9a68-e723-4b26-86ef-eb2a14761290"
      },
      "execution_count": null,
      "outputs": [
        {
          "output_type": "stream",
          "name": "stdout",
          "text": [
            "{1, 2, 3, 4}\n",
            "{1, 2, 3}\n"
          ]
        },
        {
          "output_type": "error",
          "ename": "TypeError",
          "evalue": "ignored",
          "traceback": [
            "\u001b[0;31m---------------------------------------------------------------------------\u001b[0m",
            "\u001b[0;31mTypeError\u001b[0m                                 Traceback (most recent call last)",
            "\u001b[0;32m<ipython-input-2-40880666f5f2>\u001b[0m in \u001b[0;36m<module>\u001b[0;34m\u001b[0m\n\u001b[1;32m     13\u001b[0m \u001b[0;31m# this will cause an error.\u001b[0m\u001b[0;34m\u001b[0m\u001b[0;34m\u001b[0m\u001b[0;34m\u001b[0m\u001b[0m\n\u001b[1;32m     14\u001b[0m \u001b[0;34m\u001b[0m\u001b[0m\n\u001b[0;32m---> 15\u001b[0;31m \u001b[0mmy_set\u001b[0m \u001b[0;34m=\u001b[0m \u001b[0;34m{\u001b[0m\u001b[0;36m1\u001b[0m\u001b[0;34m,\u001b[0m \u001b[0;36m2\u001b[0m\u001b[0;34m,\u001b[0m \u001b[0;34m[\u001b[0m\u001b[0;36m3\u001b[0m\u001b[0;34m,\u001b[0m \u001b[0;36m4\u001b[0m\u001b[0;34m]\u001b[0m\u001b[0;34m}\u001b[0m\u001b[0;34m\u001b[0m\u001b[0;34m\u001b[0m\u001b[0m\n\u001b[0m",
            "\u001b[0;31mTypeError\u001b[0m: unhashable type: 'list'"
          ]
        }
      ]
    },
    {
      "cell_type": "markdown",
      "source": [
        "# Creating an empty set is a bit tricky.\n",
        "\n",
        "Empty curly braces {} will make an empty dictionary in Python. To make a set without any elements, we use the set() function without any argument."
      ],
      "metadata": {
        "id": "OldAqg4wUeBe"
      }
    },
    {
      "cell_type": "code",
      "source": [
        "# Distinguish set and dictionary while creating empty set\n",
        "\n",
        "# initialize a with {}\n",
        "a = {}\n",
        "\n",
        "# check data type of a\n",
        "print(type(a))\n",
        "\n",
        "# initialize a with set()\n",
        "a = set()\n",
        "\n",
        "# check data type of a\n",
        "print(type(a))"
      ],
      "metadata": {
        "colab": {
          "base_uri": "https://localhost:8080/"
        },
        "id": "zurJTCuDUdiU",
        "outputId": "313736d1-6932-4a30-8dea-8126b88fed21"
      },
      "execution_count": null,
      "outputs": [
        {
          "output_type": "stream",
          "name": "stdout",
          "text": [
            "<class 'dict'>\n",
            "<class 'set'>\n"
          ]
        }
      ]
    },
    {
      "cell_type": "markdown",
      "source": [
        "# Modifying a set in Python\n",
        "Sets are mutable. However, since they are unordered, indexing has no meaning.\n",
        "\n",
        "We cannot access or change an element of a set using indexing or slicing. Set data type does not support it.\n",
        "\n",
        "We can add a single element using the add() method, and multiple elements using the update() method. The update() method can take tuples, lists, strings or other sets as its argument. In all cases, duplicates are avoided."
      ],
      "metadata": {
        "id": "8EAA4SPeXAnd"
      }
    },
    {
      "cell_type": "code",
      "source": [
        "# initialize my_set\n",
        "my_set = {1, 3}\n",
        "print(my_set)\n",
        "\n",
        "# my_set[0]\n",
        "# if you uncomment the above line\n",
        "# you will get an error\n",
        "# TypeError: 'set' object does not support indexing\n",
        "\n",
        "\n",
        "my_set.add(2)\n",
        "print(my_set)\n",
        "# add an element\n",
        "# Output: {1, 2, 3}\n",
        "\n",
        "# add multiple elements\n",
        "# Output: {1, 2, 3, 4}\n",
        "my_set.update([2, 3, 4])\n",
        "print(my_set)\n",
        "\n",
        "\n",
        "my_set.update([4, 5], {1, 6, 8})\n",
        "print(my_set)\n",
        "# add list and set\n",
        "# Output: {1, 2, 3, 4, 5, 6, 8}"
      ],
      "metadata": {
        "colab": {
          "base_uri": "https://localhost:8080/"
        },
        "id": "I8q7i6yEW_st",
        "outputId": "2c5c4bfe-f5b0-44d8-f017-4b785263b787"
      },
      "execution_count": null,
      "outputs": [
        {
          "output_type": "stream",
          "name": "stdout",
          "text": [
            "{1, 3}\n",
            "{1, 2, 3}\n",
            "{1, 2, 3, 4}\n",
            "{1, 2, 3, 4, 5, 6, 8}\n"
          ]
        }
      ]
    },
    {
      "cell_type": "markdown",
      "source": [
        "# Removing elements from a set\n",
        "A particular item can be removed from a set using the methods discard() and remove().\n",
        "\n",
        "The only difference between the two is that the discard() function leaves a set unchanged if the element is not present in the set. On the other hand, the remove() function will raise an error in such a condition (if element is not present in the set)."
      ],
      "metadata": {
        "id": "3WgiaP1TXg2b"
      }
    },
    {
      "cell_type": "code",
      "source": [
        "# Difference between discard() and remove()\n",
        "\n",
        "# initialize my_set\n",
        "my_set = {1, 3, 4, 5, 6}\n",
        "print(my_set)\n",
        "\n",
        "# discard an element\n",
        "# Output: {1, 3, 5, 6}\n",
        "my_set.discard(4)\n",
        "print(my_set)\n",
        "\n",
        "# remove an element\n",
        "# Output: {1, 3, 5}\n",
        "my_set.remove(6)\n",
        "print(my_set)\n",
        "\n",
        "# discard an element\n",
        "# not present in my_set\n",
        "# Output: {1, 3, 5}\n",
        "my_set.discard(2)\n",
        "print(my_set)\n",
        "\n",
        "# remove an element\n",
        "# not present in my_set\n",
        "# you will get an error.\n",
        "# Output: KeyError\n",
        "\n",
        "my_set.remove(2)"
      ],
      "metadata": {
        "colab": {
          "base_uri": "https://localhost:8080/",
          "height": 269
        },
        "id": "2_Ri_s53Xf7n",
        "outputId": "68fe780a-9cd8-4c74-c7a7-ae22820593d1"
      },
      "execution_count": null,
      "outputs": [
        {
          "output_type": "stream",
          "name": "stdout",
          "text": [
            "{1, 3, 4, 5, 6}\n",
            "{1, 3, 5, 6}\n",
            "{1, 3, 5}\n",
            "{1, 3, 5}\n"
          ]
        },
        {
          "output_type": "error",
          "ename": "KeyError",
          "evalue": "ignored",
          "traceback": [
            "\u001b[0;31m---------------------------------------------------------------------------\u001b[0m",
            "\u001b[0;31mKeyError\u001b[0m                                  Traceback (most recent call last)",
            "\u001b[0;32m<ipython-input-5-8cb8edd7dd9a>\u001b[0m in \u001b[0;36m<module>\u001b[0;34m\u001b[0m\n\u001b[1;32m     26\u001b[0m \u001b[0;31m# Output: KeyError\u001b[0m\u001b[0;34m\u001b[0m\u001b[0;34m\u001b[0m\u001b[0;34m\u001b[0m\u001b[0m\n\u001b[1;32m     27\u001b[0m \u001b[0;34m\u001b[0m\u001b[0m\n\u001b[0;32m---> 28\u001b[0;31m \u001b[0mmy_set\u001b[0m\u001b[0;34m.\u001b[0m\u001b[0mremove\u001b[0m\u001b[0;34m(\u001b[0m\u001b[0;36m2\u001b[0m\u001b[0;34m)\u001b[0m\u001b[0;34m\u001b[0m\u001b[0;34m\u001b[0m\u001b[0m\n\u001b[0m",
            "\u001b[0;31mKeyError\u001b[0m: 2"
          ]
        }
      ]
    },
    {
      "cell_type": "markdown",
      "source": [
        "Similarly, we can remove and return an item using the pop() method.\n",
        "\n",
        "Since set is an unordered data type, there is no way of determining which item will be popped. It is completely arbitrary.\n",
        "\n",
        "We can also remove all the items from a set using the clear() method."
      ],
      "metadata": {
        "id": "nWSPh_moX-xQ"
      }
    },
    {
      "cell_type": "code",
      "source": [
        "# initialize my_set\n",
        "# Output: set of unique elements\n",
        "my_set = set(\"HelloWorld\")\n",
        "print(my_set)\n",
        "\n",
        "# pop an element\n",
        "# Output: random element\n",
        "print(my_set.pop())\n",
        "\n",
        "# pop another element\n",
        "my_set.pop()\n",
        "print(my_set)\n",
        "\n",
        "# clear my_set\n",
        "# Output: set()\n",
        "my_set.clear()\n",
        "print(my_set)"
      ],
      "metadata": {
        "colab": {
          "base_uri": "https://localhost:8080/"
        },
        "id": "dXlYIUa3X-KM",
        "outputId": "9ed4f047-947a-4750-f966-118af2372e2d"
      },
      "execution_count": null,
      "outputs": [
        {
          "output_type": "stream",
          "name": "stdout",
          "text": [
            "{'H', 'r', 'e', 'o', 'l', 'W', 'd'}\n",
            "H\n",
            "{'e', 'o', 'l', 'W', 'd'}\n",
            "set()\n"
          ]
        }
      ]
    },
    {
      "cell_type": "markdown",
      "source": [
        "# Set Operations\n",
        "Sets can be used to carry out mathematical set operations like union, intersection, difference and symmetric difference. We can do this with operators or methods."
      ],
      "metadata": {
        "id": "EFYbLIfUYSos"
      }
    },
    {
      "cell_type": "markdown",
      "source": [
        "Union of A and B is a set of all elements from both sets.\n",
        "\n",
        "Union is performed using | operator. Same can be accomplished using the union() method."
      ],
      "metadata": {
        "id": "Unsswsh_Yj6g"
      }
    },
    {
      "cell_type": "code",
      "source": [
        "# Set union method\n",
        "# initialize A and B\n",
        "A = {1, 2, 3, 4, 5}\n",
        "B = {4, 5, 6, 7, 8}\n",
        "\n",
        "# use | operator\n",
        "# Output: {1, 2, 3, 4, 5, 6, 7, 8}\n",
        "print(A | B)"
      ],
      "metadata": {
        "colab": {
          "base_uri": "https://localhost:8080/"
        },
        "id": "QGc_hfLUYR8Z",
        "outputId": "7a2aea04-cd72-46aa-b030-5fa8c5fa7a85"
      },
      "execution_count": null,
      "outputs": [
        {
          "output_type": "stream",
          "name": "stdout",
          "text": [
            "{1, 2, 3, 4, 5, 6, 7, 8}\n"
          ]
        }
      ]
    },
    {
      "cell_type": "markdown",
      "source": [
        "Intersection of A and B is a set of elements that are common in both the sets.\n",
        "\n",
        "Intersection is performed using & operator. Same can be accomplished using the intersection() method."
      ],
      "metadata": {
        "id": "_bdWOBeZY3oz"
      }
    },
    {
      "cell_type": "code",
      "source": [
        "# Intersection of sets\n",
        "# initialize A and B\n",
        "A = {1, 2, 3, 4, 5}\n",
        "B = {4, 5, 6, 7, 8}\n",
        "\n",
        "# use & operator\n",
        "# Output: {4, 5}\n",
        "print(A & B)"
      ],
      "metadata": {
        "colab": {
          "base_uri": "https://localhost:8080/"
        },
        "id": "Ltd94tVJY2v3",
        "outputId": "4f9b1ee9-bfe8-4001-d205-10a6f0c9da0a"
      },
      "execution_count": null,
      "outputs": [
        {
          "output_type": "stream",
          "name": "stdout",
          "text": [
            "{4, 5}\n"
          ]
        }
      ]
    },
    {
      "cell_type": "markdown",
      "source": [
        "Difference of the set B from set A(A - B) is a set of elements that are only in A but not in B. Similarly, B - A is a set of elements in B but not in A.\n",
        "\n",
        "Difference is performed using - operator. Same can be accomplished using the difference() method."
      ],
      "metadata": {
        "id": "xBwAtunQZHOM"
      }
    },
    {
      "cell_type": "code",
      "source": [
        "# Difference of two sets\n",
        "# initialize A and B\n",
        "A = {1, 2, 3, 4, 5}\n",
        "B = {4, 5, 6, 7, 8}\n",
        "\n",
        "# use - operator on A\n",
        "# Output: {1, 2, 3}\n",
        "print(A - B)\n",
        "\n",
        "print(B - A)"
      ],
      "metadata": {
        "colab": {
          "base_uri": "https://localhost:8080/"
        },
        "id": "JuG_z233ZGnm",
        "outputId": "83620649-038a-4bd0-b909-8115200d9b7a"
      },
      "execution_count": null,
      "outputs": [
        {
          "output_type": "stream",
          "name": "stdout",
          "text": [
            "{1, 2, 3}\n",
            "{8, 6, 7}\n"
          ]
        }
      ]
    },
    {
      "cell_type": "markdown",
      "source": [
        "Symmetric Difference of A and B is a set of elements in A and B but not in both (excluding the intersection).\n",
        "\n",
        "Symmetric difference is performed using ^ operator. Same can be accomplished using the method symmetric_difference()."
      ],
      "metadata": {
        "id": "2jkjOwouZaBu"
      }
    },
    {
      "cell_type": "code",
      "source": [
        "# Symmetric difference of two sets\n",
        "# initialize A and B\n",
        "A = {1, 2, 3, 4, 5}\n",
        "B = {4, 5, 6, 7, 8}\n",
        "\n",
        "# use ^ operator\n",
        "# Output: {1, 2, 3, 6, 7, 8}\n",
        "print(A ^ B)"
      ],
      "metadata": {
        "colab": {
          "base_uri": "https://localhost:8080/"
        },
        "id": "6BMfUIjXZZaO",
        "outputId": "5172b265-a14e-4ea1-ef9a-66ac196cbe6c"
      },
      "execution_count": null,
      "outputs": [
        {
          "output_type": "stream",
          "name": "stdout",
          "text": [
            "{1, 2, 3, 6, 7, 8}\n"
          ]
        }
      ]
    },
    {
      "cell_type": "markdown",
      "source": [
        "# Set Membership Test\n",
        "We can test if an item exists in a set or not, using the in keyword."
      ],
      "metadata": {
        "id": "-ZeKuzTrZ-C5"
      }
    },
    {
      "cell_type": "code",
      "source": [
        "# in keyword in a set\n",
        "# initialize my_set\n",
        "my_set = set(\"apple\")\n",
        "\n",
        "# check if 'a' is present\n",
        "# Output: True\n",
        "print('a' in my_set)\n",
        "\n",
        "# check if 'p' is present\n",
        "# Output: False\n",
        "print('p' not in my_set)"
      ],
      "metadata": {
        "colab": {
          "base_uri": "https://localhost:8080/"
        },
        "id": "xNovBjF2Z9QE",
        "outputId": "d6ae60c9-b1a0-445b-b695-0293016ed6c1"
      },
      "execution_count": null,
      "outputs": [
        {
          "output_type": "stream",
          "name": "stdout",
          "text": [
            "True\n",
            "False\n"
          ]
        }
      ]
    },
    {
      "cell_type": "markdown",
      "source": [
        "# Iterating Through a Set\n",
        "We can iterate through each item in a set using a for loop."
      ],
      "metadata": {
        "id": "69v2H1C3aKN7"
      }
    },
    {
      "cell_type": "code",
      "source": [
        "for letter in set(\"apple\"):\n",
        "  print(letter)"
      ],
      "metadata": {
        "colab": {
          "base_uri": "https://localhost:8080/"
        },
        "id": "TkFqA7qzaJqS",
        "outputId": "df97e92b-a5fe-427f-a2c2-a0eabfd6a031"
      },
      "execution_count": null,
      "outputs": [
        {
          "output_type": "stream",
          "name": "stdout",
          "text": [
            "p\n",
            "e\n",
            "a\n",
            "l\n"
          ]
        }
      ]
    },
    {
      "cell_type": "markdown",
      "source": [
        "# Set add()\n",
        "The add() method adds a given element to a set. If the element is already present, it doesn't add any element.\n",
        "\n",
        "Syntax of Set add()\n",
        "The syntax of add() method is:\n",
        "\n",
        "# set.add(elem)\n",
        "add() method doesn't add an element to the set if it's already present in it.\n",
        "\n",
        "Also, you don't get back a set if you use add() method when creating a set object.\n",
        "\n",
        "noneValue = set().add(elem)\n",
        "The above statement doesn't return a reference to the set but 'None', because the statement returns the return type of add which is None.\n",
        "\n",
        "Set add() Parameters\n",
        "add() method takes a single parameter:\n",
        "\n",
        "elem - the element that is added to the set\n",
        "Return Value from Set add()\n",
        "add() method doesn't return any value and returns None."
      ],
      "metadata": {
        "id": "OlMUh5Sfci2L"
      }
    },
    {
      "cell_type": "code",
      "source": [
        "prime_numbers = {2, 3, 5, 7}\n",
        "\n",
        "# add 11 to prime_numbers\n",
        "prime_numbers.add(11)\n",
        "\n",
        "\n",
        "print(prime_numbers)\n",
        "\n",
        "# Output: {2, 3, 5, 7, 11}\n",
        "\n",
        "# set of vowels\n",
        "vowels = {'a', 'e', 'i', 'u'}\n",
        "\n",
        "# adding 'o'\n",
        "vowels.add('o')\n",
        "\n",
        "print('Vowels are:', vowels)\n",
        "\n",
        "# adding 'a' again\n",
        "vowels.add('a')\n",
        "\n",
        "print('Vowels are:', vowels)"
      ],
      "metadata": {
        "colab": {
          "base_uri": "https://localhost:8080/"
        },
        "id": "qFC2fUbSaeL8",
        "outputId": "4ef1621d-42ad-44dc-f8a9-c5bab60f97c7"
      },
      "execution_count": null,
      "outputs": [
        {
          "output_type": "stream",
          "name": "stdout",
          "text": [
            "{2, 3, 5, 7, 11}\n",
            "Vowels are: {'a', 'u', 'e', 'o', 'i'}\n",
            "Vowels are: {'a', 'u', 'e', 'o', 'i'}\n"
          ]
        }
      ]
    },
    {
      "cell_type": "markdown",
      "source": [
        "# Add tuple to a set"
      ],
      "metadata": {
        "id": "AZgG07_VdErG"
      }
    },
    {
      "cell_type": "code",
      "source": [
        "# set of vowels\n",
        "vowels = {'a', 'e', 'u'}\n",
        "\n",
        "# a tuple ('i', 'o')\n",
        "tup = ('i', 'o')\n",
        "\n",
        "# adding tuple\n",
        "vowels.add(tup)\n",
        "\n",
        "print('Vowels are:', vowels)\n",
        "\n",
        "# adding same tuple again\n",
        "vowels.add(tup)\n",
        "\n",
        "print('Vowels are:', vowels)"
      ],
      "metadata": {
        "colab": {
          "base_uri": "https://localhost:8080/"
        },
        "id": "3-drNvGFdED2",
        "outputId": "d314ec8a-1540-4ff4-94cc-d390e657a932"
      },
      "execution_count": null,
      "outputs": [
        {
          "output_type": "stream",
          "name": "stdout",
          "text": [
            "Vowels are: {('i', 'o'), 'e', 'a', 'u'}\n",
            "Vowels are: {('i', 'o'), 'e', 'a', 'u'}\n"
          ]
        }
      ]
    },
    {
      "cell_type": "markdown",
      "source": [
        "# Set remove()\n",
        "The remove() method removes the specified element from the set.\n",
        "Syntax of Set remove()\n",
        "The syntax of the remove() method is:\n",
        "\n",
        "set.remove(element)\n",
        "remove() Parameters\n",
        "The remove() method takes a single element as an argument and removes it from the set.\n",
        "\n",
        "Return Value from remove()\n",
        "The remove() removes the specified element from the set and updates the set. It doesn't return any value.\n",
        "\n",
        "If the element passed to remove() doesn't exist, KeyError exception is thrown."
      ],
      "metadata": {
        "id": "KABbYsCldtLY"
      }
    },
    {
      "cell_type": "code",
      "source": [
        "languages = {'Python', 'Java', 'English'}\n",
        "\n",
        "# remove English from the set\n",
        "languages.remove('English')\n",
        "\n",
        "\n",
        "print(languages)\n",
        "\n",
        "# Output: {'Python', 'Java'}\n",
        "\n",
        "# remove English from the set, Which is already removed\n",
        "languages.remove('English')\n",
        "\n",
        "print(languages)\n",
        "\n",
        "# Output: Error"
      ],
      "metadata": {
        "colab": {
          "base_uri": "https://localhost:8080/",
          "height": 252
        },
        "id": "UIQ2NSH6dsiB",
        "outputId": "49ab6f3f-65a3-4c59-bfe1-a0122a271c15"
      },
      "execution_count": null,
      "outputs": [
        {
          "output_type": "stream",
          "name": "stdout",
          "text": [
            "{'Python', 'Java'}\n"
          ]
        },
        {
          "output_type": "error",
          "ename": "KeyError",
          "evalue": "ignored",
          "traceback": [
            "\u001b[0;31m---------------------------------------------------------------------------\u001b[0m",
            "\u001b[0;31mKeyError\u001b[0m                                  Traceback (most recent call last)",
            "\u001b[0;32m<ipython-input-23-476b845a85de>\u001b[0m in \u001b[0;36m<module>\u001b[0;34m\u001b[0m\n\u001b[1;32m     10\u001b[0m \u001b[0;34m\u001b[0m\u001b[0m\n\u001b[1;32m     11\u001b[0m \u001b[0;31m# remove English from the set, Which is already removed\u001b[0m\u001b[0;34m\u001b[0m\u001b[0;34m\u001b[0m\u001b[0;34m\u001b[0m\u001b[0m\n\u001b[0;32m---> 12\u001b[0;31m \u001b[0mlanguages\u001b[0m\u001b[0;34m.\u001b[0m\u001b[0mremove\u001b[0m\u001b[0;34m(\u001b[0m\u001b[0;34m'English'\u001b[0m\u001b[0;34m)\u001b[0m\u001b[0;34m\u001b[0m\u001b[0;34m\u001b[0m\u001b[0m\n\u001b[0m\u001b[1;32m     13\u001b[0m \u001b[0;34m\u001b[0m\u001b[0m\n\u001b[1;32m     14\u001b[0m \u001b[0mprint\u001b[0m\u001b[0;34m(\u001b[0m\u001b[0mlanguages\u001b[0m\u001b[0;34m)\u001b[0m\u001b[0;34m\u001b[0m\u001b[0;34m\u001b[0m\u001b[0m\n",
            "\u001b[0;31mKeyError\u001b[0m: 'English'"
          ]
        }
      ]
    },
    {
      "cell_type": "markdown",
      "source": [
        "# Set copy()\n",
        "\n",
        "The copy() method returns a copy of the set.\n",
        "\n",
        "copy() Syntax\n",
        "The syntax of copy() method is:\n",
        "\n",
        "set.copy()\n",
        "Here, the items of the set are copied.\n",
        "\n",
        "copy() Parameters\n",
        "The copy() method doesn't take any parameters.\n",
        "\n",
        "copy() Return Value\n",
        "The copy() method returns\n",
        "\n",
        "the copy of the set"
      ],
      "metadata": {
        "id": "f-nt16zqehHK"
      }
    },
    {
      "cell_type": "code",
      "source": [
        "numbers = {1, 2, 3, 4}\n",
        "\n",
        "# copies the items of numbers to new_numbers\n",
        "new_numbers = numbers.copy()\n",
        "\n",
        "print(new_numbers)\n",
        "\n",
        "# Output:  {1, 2, 3, 4}\n",
        "\n",
        "\n"
      ],
      "metadata": {
        "id": "RrooyiiaegSr"
      },
      "execution_count": null,
      "outputs": []
    },
    {
      "cell_type": "markdown",
      "source": [
        "# Copy Set using = operator\n",
        "\n"
      ],
      "metadata": {
        "id": "DBJ8QqjJe7d4"
      }
    },
    {
      "cell_type": "code",
      "source": [
        "names = {\"John\", \"Charlie\", \"Marie\"}\n",
        "\n",
        "# copy set using = operator\n",
        "new_names = names\n",
        "\n",
        "print('Original Names: ', names)\n",
        "print('Copied Names: ', new_names)"
      ],
      "metadata": {
        "colab": {
          "base_uri": "https://localhost:8080/"
        },
        "id": "h-9SZB6Se6uD",
        "outputId": "30b015fd-1f56-4ee1-c51a-ced39aa6e763"
      },
      "execution_count": null,
      "outputs": [
        {
          "output_type": "stream",
          "name": "stdout",
          "text": [
            "Original Names:  {'Charlie', 'Marie', 'John'}\n",
            "Copied Names:  {'Charlie', 'Marie', 'John'}\n"
          ]
        }
      ]
    },
    {
      "cell_type": "markdown",
      "source": [
        "# Add items to the set after copy()\n",
        "We can also modify the copied set using different methods."
      ],
      "metadata": {
        "id": "m3sie6-OfGRx"
      }
    },
    {
      "cell_type": "code",
      "source": [
        "numbers = {1, 2, 3, 4}\n",
        "new_numbers = numbers\n",
        "\n",
        "print('numbers: ', numbers)\n",
        "\n",
        "# add 5 to the copied set\n",
        "new_numbers.add(5)\n",
        "\n",
        "print('new_numbers: ', new_numbers)"
      ],
      "metadata": {
        "colab": {
          "base_uri": "https://localhost:8080/"
        },
        "id": "s8YCSYugfFi8",
        "outputId": "450c7350-e460-4cbb-fac5-87f0346004d9"
      },
      "execution_count": null,
      "outputs": [
        {
          "output_type": "stream",
          "name": "stdout",
          "text": [
            "numbers:  {1, 2, 3, 4}\n",
            "new_numbers:  {1, 2, 3, 4, 5}\n"
          ]
        }
      ]
    },
    {
      "cell_type": "markdown",
      "source": [
        "# Set clear()\n",
        "\n",
        "clear() Syntax\n",
        "The syntax of the clear() method is:\n",
        "\n",
        " \n",
        "set.clear()\n",
        "Here, set.clear() clears the set by removing all the elements of the set.\n",
        "\n",
        "clear() Parameters\n",
        "The clear() method doesn't take any parameters.\n",
        "\n",
        "clear() Return Value\n",
        "The clear() method doesn't return any value."
      ],
      "metadata": {
        "id": "yTwK95DFfgya"
      }
    },
    {
      "cell_type": "code",
      "source": [
        "# set of vowels\n",
        "vowels = {'a', 'e', 'i', 'o', 'u'}\n",
        "print('Vowels (before clear):', vowels)\n",
        "\n",
        "# clear vowels\n",
        "vowels.clear()\n",
        "\n",
        "print('Vowels (after clear):', vowels)\n",
        "\n",
        "\n",
        "# set of strings\n",
        "names = {'John', 'Mary', 'Charlie'}\n",
        "print('Strings (before clear):', names)\n",
        "\n",
        "# clear strings\n",
        "names.clear()\n",
        "print('Strings (after clear):', names)"
      ],
      "metadata": {
        "colab": {
          "base_uri": "https://localhost:8080/"
        },
        "id": "lKQ6ZoE7fgU5",
        "outputId": "d403e144-925d-4aab-aeed-9e44cd837fd0"
      },
      "execution_count": null,
      "outputs": [
        {
          "output_type": "stream",
          "name": "stdout",
          "text": [
            "Vowels (before clear): {'a', 'u', 'e', 'o', 'i'}\n",
            "Vowels (after clear): set()\n",
            "Strings (before clear): {'Mary', 'Charlie', 'John'}\n",
            "Strings (after clear): set()\n"
          ]
        }
      ]
    },
    {
      "cell_type": "markdown",
      "source": [
        "# Set discard()\n",
        "\n",
        "discard() Syntax\n",
        "The syntax of discard() method is:\n",
        "\n",
        "a.discard(x)\n",
        "Here, a is the set and x is the item to discard.\n",
        "\n",
        "discard() Parameter\n",
        "The discard method takes a single argument:\n",
        "\n",
        "x - an item to remove from the set\n",
        "discard() Return Value\n",
        "The discard() method doesn't return any value."
      ],
      "metadata": {
        "id": "zOF5SvCxnLQd"
      }
    },
    {
      "cell_type": "code",
      "source": [
        "numbers = {2, 3, 4, 5}\n",
        "\n",
        "print(numbers)\n",
        "# removes 3 and returns the remaining set\n",
        "result = numbers.discard(3) \n",
        "\n",
        "print(result)\n",
        "print(numbers)\n",
        "\n",
        "# Output: numbers =  {2, 4, 5}"
      ],
      "metadata": {
        "colab": {
          "base_uri": "https://localhost:8080/"
        },
        "id": "6TRoVGxdnKgp",
        "outputId": "1e91af3b-0cce-4a70-88ec-740af10be93c"
      },
      "execution_count": null,
      "outputs": [
        {
          "output_type": "stream",
          "name": "stdout",
          "text": [
            "{2, 3, 4, 5}\n",
            "None\n",
            "{2, 4, 5}\n"
          ]
        }
      ]
    },
    {
      "cell_type": "markdown",
      "source": [
        "Set pop()\n",
        "pop() Syntax\n",
        "The syntax of the pop() method is:\n",
        "\n",
        "set.pop()\n",
        "Here, pop() removes an item from the set and updates it.\n",
        "\n",
        "pop() Parameters\n",
        "The pop() method doesn't take any parameters.\n",
        "\n",
        "pop() Return Value\n",
        "The pop() method returns:\n",
        "\n",
        "a removed item from the set\n",
        "TypeError exception if the set is empty"
      ],
      "metadata": {
        "id": "bAVGPUsXgd_I"
      }
    },
    {
      "cell_type": "code",
      "source": [
        "A = {'a', 'b', 'c', 'd'}\n",
        "removed_item = A.pop()\n",
        "print(removed_item)\n",
        "\n",
        "# Output: c\n",
        "\n",
        "\n",
        "A = {'10', 'Ten', '100', 'Hundred'}\n",
        "\n",
        "# removes random item of set A\n",
        "print('Pop() removes:', A.pop())\n",
        "\n",
        "# updates A to new set without the popped item\n",
        "print('Updated set A:', A)\n",
        "\n",
        "\n",
        "\n",
        "# empty set\n",
        "A1 ={}\n",
        "\n",
        "# throws an error\n",
        "print(A1.pop())\n"
      ],
      "metadata": {
        "colab": {
          "base_uri": "https://localhost:8080/",
          "height": 252
        },
        "id": "2fFWOa2Mgdd9",
        "outputId": "52e793b9-31d1-4be1-9132-dafdec7c283f"
      },
      "execution_count": null,
      "outputs": [
        {
          "output_type": "stream",
          "name": "stdout",
          "text": [
            "b\n",
            "Pop() removes: 10\n",
            "Updated set A: {'Ten', '100', 'Hundred'}\n"
          ]
        },
        {
          "output_type": "error",
          "ename": "TypeError",
          "evalue": "ignored",
          "traceback": [
            "\u001b[0;31m---------------------------------------------------------------------------\u001b[0m",
            "\u001b[0;31mTypeError\u001b[0m                                 Traceback (most recent call last)",
            "\u001b[0;32m<ipython-input-31-decdc1be6e1c>\u001b[0m in \u001b[0;36m<module>\u001b[0;34m\u001b[0m\n\u001b[1;32m     20\u001b[0m \u001b[0;34m\u001b[0m\u001b[0m\n\u001b[1;32m     21\u001b[0m \u001b[0;31m# throws an error\u001b[0m\u001b[0;34m\u001b[0m\u001b[0;34m\u001b[0m\u001b[0;34m\u001b[0m\u001b[0m\n\u001b[0;32m---> 22\u001b[0;31m \u001b[0mprint\u001b[0m\u001b[0;34m(\u001b[0m\u001b[0mA1\u001b[0m\u001b[0;34m.\u001b[0m\u001b[0mpop\u001b[0m\u001b[0;34m(\u001b[0m\u001b[0;34m)\u001b[0m\u001b[0;34m)\u001b[0m\u001b[0;34m\u001b[0m\u001b[0;34m\u001b[0m\u001b[0m\n\u001b[0m",
            "\u001b[0;31mTypeError\u001b[0m: pop expected at least 1 arguments, got 0"
          ]
        }
      ]
    },
    {
      "cell_type": "markdown",
      "source": [
        "# Set difference()\n",
        "The difference() method computes the difference of two sets and returns items that are unique to the first set.\n",
        "\n",
        "difference() Syntax\n",
        "The syntax of the difference() method is:\n",
        "\n",
        "A.difference(B)\n",
        "Here, A and B are two sets.\n",
        "\n",
        "difference() Parameter\n",
        "The difference() method takes a single argument:\n",
        "\n",
        "B - a set whose items are not included in the resulting set\n",
        "difference() Return Value\n",
        "The difference() method returns:\n",
        "\n",
        "a set with elements unique to the first set"
      ],
      "metadata": {
        "id": "CUVFxsIqlBQj"
      }
    },
    {
      "cell_type": "code",
      "source": [
        "A = {'a', 'b', 'c', 'd'}\n",
        "B = {'c', 'f', 'g'}\n",
        "\n",
        "# equivalent to A-B\n",
        "print(A.difference(B))\n",
        "\n",
        "# equivalent to B-A\n",
        "print(B.difference(A))"
      ],
      "metadata": {
        "colab": {
          "base_uri": "https://localhost:8080/"
        },
        "id": "9x3TOhn9lAvR",
        "outputId": "e214c68d-92aa-4cc5-b2d3-d6c89936173f"
      },
      "execution_count": null,
      "outputs": [
        {
          "output_type": "stream",
          "name": "stdout",
          "text": [
            "{'b', 'a', 'd'}\n",
            "{'f', 'g'}\n"
          ]
        }
      ]
    },
    {
      "cell_type": "markdown",
      "source": [
        "Set Difference Using - Operator\n",
        "We can also find the set difference using - operator in Python. For example,"
      ],
      "metadata": {
        "id": "mck6TbJClXGu"
      }
    },
    {
      "cell_type": "code",
      "source": [
        "A = {'a', 'b', 'c', 'd'}\n",
        "B = {'c', 'f', 'g'}\n",
        "\n",
        "# prints the items of A that are not present in B\n",
        "print(A - B)\n",
        "\n",
        "# prints the items of B that are not present in A\n",
        "print(B - A)"
      ],
      "metadata": {
        "colab": {
          "base_uri": "https://localhost:8080/"
        },
        "id": "iVs7kuMRlWoq",
        "outputId": "7ae7ae0c-f241-40f5-aaaa-cf547b471558"
      },
      "execution_count": null,
      "outputs": [
        {
          "output_type": "stream",
          "name": "stdout",
          "text": [
            "{'b', 'a', 'd'}\n",
            "{'f', 'g'}\n"
          ]
        }
      ]
    },
    {
      "cell_type": "markdown",
      "source": [
        "# Set difference_update()\n",
        "\n",
        "The difference_update() method computes the difference between two sets (A - B) and updates set A with the resulting set."
      ],
      "metadata": {
        "id": "nADSiGJFmFvI"
      }
    },
    {
      "cell_type": "code",
      "source": [
        "# sets of numbers\n",
        "A = {1, 3, 5, 7, 9}\n",
        "B = {2, 3, 5, 7, 11}\n",
        "\n",
        "# computes A - B and updates A with the resulting set\n",
        "A.difference_update(B)\n",
        "\n",
        "print('A = ', A)\n",
        "\n",
        "# Output: A =  {1, 9}\n",
        "\n",
        "\n",
        "A = {'a', 'c', 'g', 'd'}\n",
        "B = {'c', 'f', 'g'}\n",
        "\n",
        "print('A before (A - B) =', A)\n",
        "\n",
        "A.difference_update(B)\n",
        "\n",
        "print('A after (A - B) = ', A)"
      ],
      "metadata": {
        "colab": {
          "base_uri": "https://localhost:8080/"
        },
        "id": "KkKvosPHmFWA",
        "outputId": "3cdc6e46-c6c8-41ca-84e0-fff6a0d9fa14"
      },
      "execution_count": null,
      "outputs": [
        {
          "output_type": "stream",
          "name": "stdout",
          "text": [
            "A =  {1, 9}\n",
            "A before (A - B) = {'c', 'a', 'd', 'g'}\n",
            "A after (A - B) =  {'a', 'd'}\n"
          ]
        }
      ]
    },
    {
      "cell_type": "markdown",
      "source": [
        "# Set intersection()\n",
        "\n",
        "The intersection() method returns a new set with elements that are common to all sets.\n",
        "\n",
        "Syntax of Set intersection()\n",
        "The syntax of intersection() in Python is:\n",
        "\n",
        "A.intersection(*other_sets)\n",
        "intersection() Parameters\n",
        "intersection() allows arbitrary number of arguments (sets).\n",
        "\n",
        "Note: * is not part of the syntax. It is used to indicate that the method allows arbitrary number of arguments.\n",
        "\n",
        "Return Value from Intersection()\n",
        "intersection() method returns the intersection of set A with all the sets (passed as argument).\n",
        "\n",
        "If the argument is not passed to intersection(), it returns a shallow copy of the set (A).\n",
        "\n"
      ],
      "metadata": {
        "id": "A1QbZJd9n38S"
      }
    },
    {
      "cell_type": "code",
      "source": [
        "A = {2, 3, 5, 4}\n",
        "B = {2, 5, 100}\n",
        "C = {2, 3, 8, 9, 10}\n",
        "\n",
        "print(B.intersection(A))\n",
        "print(B.intersection(C))\n",
        "print(A.intersection(C))\n",
        "print(C.intersection(A, B))  # Common to both AB  and C\n",
        "\n",
        "print(A.intersection())\n",
        "\n"
      ],
      "metadata": {
        "colab": {
          "base_uri": "https://localhost:8080/"
        },
        "id": "Qa5-s2Wwn3ZV",
        "outputId": "db23dee7-01c9-4a7f-9fb7-ce2670960859"
      },
      "execution_count": null,
      "outputs": [
        {
          "output_type": "stream",
          "name": "stdout",
          "text": [
            "{2, 5}\n",
            "{2}\n",
            "{2, 3}\n",
            "{2}\n",
            "{2, 3, 4, 5}\n"
          ]
        }
      ]
    },
    {
      "cell_type": "markdown",
      "source": [
        "Set intersection_update()\n",
        "The intersection_update() finds the intersection of different sets and updates it to the set that calls the method.\n",
        "\n",
        "intersection_update() Syntax\n",
        "The syntax of the intersection_update() method is:\n",
        "\n",
        "A.intersection_update(*sets)\n",
        "Here, *sets indicates that set A can be intersected with one or more sets.\n",
        "\n",
        "intersection_update() Parameter\n",
        "The intersection_update() method allows an random number of arguments:\n",
        "\n",
        "*sets - denotes that the methods can take one or more arguments\n",
        "For example,\n",
        "\n",
        "A.intersection_updata(B, C)\n",
        "Here, the method has two arguments, B and C.\n",
        "\n",
        "intersection_update() Return Value\n",
        "The intersection_update() method doesn't return any value."
      ],
      "metadata": {
        "id": "eRlwCzgdumYG"
      }
    },
    {
      "cell_type": "code",
      "source": [
        "A = {1, 2, 3, 4}\n",
        "B = {2, 3, 4, 5}\n",
        "\n",
        "# updates set A with the items common to both sets A and B\n",
        "A.intersection_update(B)\n",
        "\n",
        "print('A =', A)\n",
        "\n",
        "print('B =', B)\n",
        "# Output: A = {2, 3, 4}\n",
        "\n",
        "\n",
        "\n",
        "A = {1, 2, 3, 4}\n",
        "B = {2, 3, 4, 5, 6}\n",
        "C = {4, 5, 6, 9, 10}\n",
        "\n",
        "# performs intersection between A, B and C and updates the result to set A\n",
        "A.intersection_update(B, C)\n",
        "\n",
        "print('A =', A)\n",
        "print('B =', B)\n",
        "print('C =', C)\n",
        "\n",
        "# we have used intersection_update() to compute the intersection between sets A, B and C. The result of intersection is updated to set A.\n",
        "\n",
        "# That's why we have A = {4} as the output because 4 is the only item that is present in all three sets. Whereas, sets B and C are unchanged."
      ],
      "metadata": {
        "colab": {
          "base_uri": "https://localhost:8080/"
        },
        "id": "2deVuh_lulpE",
        "outputId": "a38f1564-187c-464a-bada-08931b44e911"
      },
      "execution_count": null,
      "outputs": [
        {
          "output_type": "stream",
          "name": "stdout",
          "text": [
            "A = {2, 3, 4}\n",
            "B = {2, 3, 4, 5}\n",
            "A = {4}\n",
            "B = {2, 3, 4, 5, 6}\n",
            "C = {4, 5, 6, 9, 10}\n"
          ]
        }
      ]
    },
    {
      "cell_type": "markdown",
      "source": [
        "symmetric_difference()\n",
        "The symmetric_difference() method returns all the items present in given sets, except the items in their intersections.\n",
        "\n",
        "symmetric_difference() Syntax\n",
        "The syntax of the symmetric_difference() method is:\n",
        "\n",
        "A.symmetric_difference(B)\n",
        "Here, A and B are two sets.\n",
        "\n",
        "symmetric_difference() Parameter\n",
        "The symmetric_difference() method takes a single parameter:\n",
        "\n",
        "B - a set that pairs with set A to find their symmetric difference\n",
        "symmetric_difference() Return Value\n",
        "The symmetric_difference() method returns:\n",
        "\n",
        "a set with all the items of A and B excluding the excluding the identical items\n"
      ],
      "metadata": {
        "id": "1DjxjH5G0zvJ"
      }
    },
    {
      "cell_type": "code",
      "source": [
        "A = {'Python', 'Java', 'Go'}\n",
        "B = {'Python', 'JavaScript', 'C' }\n",
        "\n",
        "# returns the symmetric difference of A and B to result variable\n",
        "result = A.symmetric_difference(B)\n",
        "\n",
        "print(result)\n",
        "\n",
        "\n",
        "A = {'a', 'b', 'c'}\n",
        "B = {'a', 'b', 'c'}\n",
        "\n",
        "# returns empty set\n",
        "result = A.symmetric_difference(B)\n",
        "\n",
        "print(result)\n"
      ],
      "metadata": {
        "colab": {
          "base_uri": "https://localhost:8080/"
        },
        "id": "-hk8TpgY0zJn",
        "outputId": "54481d8f-d8d2-46a4-a9ec-488215e06e36"
      },
      "execution_count": null,
      "outputs": [
        {
          "output_type": "stream",
          "name": "stdout",
          "text": [
            "{'Go', 'Java', 'JavaScript', 'C'}\n",
            "set()\n"
          ]
        }
      ]
    },
    {
      "cell_type": "markdown",
      "source": [
        "# Symmetric Difference Using ^ Operator"
      ],
      "metadata": {
        "id": "sXAVF8r61NCr"
      }
    },
    {
      "cell_type": "code",
      "source": [
        "A = {'a', 'b', 'c', 'd'}\n",
        "B = {'c', 'd', 'e' }\n",
        "C = {'i'}\n",
        "\n",
        "# works as (A).symmetric_difference(B)\n",
        "print(A ^ B)\n",
        "\n",
        "# symmetric difference of 3 sets\n",
        "print(A ^ B ^ C)"
      ],
      "metadata": {
        "colab": {
          "base_uri": "https://localhost:8080/"
        },
        "id": "o_YT3LkT1MJ9",
        "outputId": "e43d67ca-32e3-4857-e83d-1c996cbac914"
      },
      "execution_count": null,
      "outputs": [
        {
          "output_type": "stream",
          "name": "stdout",
          "text": [
            "{'b', 'a', 'e'}\n",
            "{'b', 'e', 'a', 'i'}\n"
          ]
        }
      ]
    },
    {
      "cell_type": "markdown",
      "source": [
        "# The symmetric_difference_update() \n",
        "\n",
        "method finds the symmetric difference of two sets (non-similar items of both sets) and updates it to the set that calls the method.\n",
        "\n",
        "symmetric_difference_update() Syntax\n",
        "The syntax of the symmetric_difference_update() method is:\n",
        "\n",
        "A.symmetric_difference_update(B)\n",
        "Here, A and B are two sets.\n",
        "\n",
        "symmetric_difference_update() Parameter\n",
        "The symmetric_difference_update() method takes a single parameter:\n",
        "\n",
        "B - a set that pairs with set A to find non-similar items of both sets\n",
        "symmetric_difference_update() Return Value\n",
        "The symmetric_difference_update() method doesn't return any value."
      ],
      "metadata": {
        "id": "X2zxdal-1ygu"
      }
    },
    {
      "cell_type": "code",
      "source": [
        "# create two sets A and B\n",
        "A = {'Python', 'Java', 'Go'}\n",
        "B = {'Python', 'JavaScript', 'C' }\n",
        "\n",
        "print('Original Set A:', A)\n",
        "\n",
        "# updates A with the symmetric difference of A and B\n",
        "A.symmetric_difference_update(B)\n",
        "\n",
        "print('Updated Set A:', A)\n",
        "\n",
        "\n",
        "\n",
        "A = {'a', 'c', 'd'}\n",
        "B = {'c', 'd', 'e' }\n",
        "\n",
        "# updates A with the symmetric difference of A and B\n",
        "A.symmetric_difference_update(B)\n",
        "\n",
        "print(A)\n",
        "\n",
        "# Output: {a, e}"
      ],
      "metadata": {
        "colab": {
          "base_uri": "https://localhost:8080/"
        },
        "id": "3MB-YC491x90",
        "outputId": "332d5a4e-9bcd-4a43-f218-c7bc250bccc6"
      },
      "execution_count": null,
      "outputs": [
        {
          "output_type": "stream",
          "name": "stdout",
          "text": [
            "Original Set A: {'Python', 'Java', 'Go'}\n",
            "Updated Set A: {'JavaScript', 'Java', 'Go', 'C'}\n",
            "{'e', 'a'}\n"
          ]
        }
      ]
    },
    {
      "cell_type": "markdown",
      "source": [
        "Set union()\n",
        "\n",
        "The Python set union() method returns a new set with distinct elements from all the sets.\n",
        "\n",
        "Syntax of Set union()\n",
        "The syntax of union() is:\n",
        "\n",
        "A.union(*other_sets)\n",
        "Note: * is not part of the syntax. It is used to indicate that the method can take 0 or more arguments.\n",
        "\n",
        "Return Value from union()\n",
        "The union() method returns a new set with elements from the set and all other sets (passed as an argument).\n",
        "If the argument is not passed to union(), it returns a shallow copy of the set."
      ],
      "metadata": {
        "id": "4MJlaw5n2Z_d"
      }
    },
    {
      "cell_type": "code",
      "source": [
        "A = {'a', 'c', 'd'}\n",
        "B = {'c', 'd', 2 }\n",
        "C = {1, 2, 3}\n",
        "\n",
        "print('A U B =', A.union(B))\n",
        "print('B U C =', B.union(C))\n",
        "print('A U B U C =', A.union(B, C))\n",
        "\n",
        "print('A.union() =', A.union())\n",
        "\n",
        "\n",
        "\n",
        "A = {'a', 'c', 'd'}\n",
        "B = {'c', 'd', 2 }\n",
        "C = {1, 2, 3}\n",
        "\n",
        "print('A U B =', A| B)\n",
        "print('B U C =', B | C)\n",
        "print('A U B U C =', A | B | C)\n"
      ],
      "metadata": {
        "colab": {
          "base_uri": "https://localhost:8080/"
        },
        "id": "XbzNahIO2ZfW",
        "outputId": "f7046437-17cc-44a1-ac5f-9e488e40c752"
      },
      "execution_count": null,
      "outputs": [
        {
          "output_type": "stream",
          "name": "stdout",
          "text": [
            "A U B = {2, 'a', 'c', 'd'}\n",
            "B U C = {1, 2, 3, 'c', 'd'}\n",
            "A U B U C = {1, 2, 3, 'a', 'c', 'd'}\n",
            "A.union() = {'c', 'a', 'd'}\n",
            "A U B = {2, 'a', 'c', 'd'}\n",
            "B U C = {1, 2, 3, 'c', 'd'}\n",
            "A U B U C = {1, 2, 3, 'a', 'c', 'd'}\n"
          ]
        }
      ]
    },
    {
      "cell_type": "markdown",
      "source": [
        "Set update()\n",
        "\n",
        "update() Syntax\n",
        "The syntax of the update() method is:\n",
        "\n",
        "A.update(B)\n",
        "Here, A is a set and B can be any iterable like list, set, dictionary, string, etc.\n",
        "\n",
        "update() Parameter\n",
        "The update() method can take any number of arguments. For example,\n",
        "\n",
        "A.update(B, C, D)\n",
        "Here,\n",
        "\n",
        "B, C, D - iterables whose items are added to set A\n",
        "update() Return Value\n",
        "The update() method doesn't return any value."
      ],
      "metadata": {
        "id": "QczGhmUf3YuR"
      }
    },
    {
      "cell_type": "code",
      "source": [
        "A = {1, 3, 5}\n",
        "B = {2, 4, 6}\n",
        "C = {0}\n",
        "\n",
        "print('Original A:', A)\n",
        "\n",
        "# adds items of B and C to A and updates A\n",
        "A.update(B, C)\n",
        "\n",
        "print('A after update()', A)\n"
      ],
      "metadata": {
        "colab": {
          "base_uri": "https://localhost:8080/"
        },
        "id": "zdJTEaPn3YHc",
        "outputId": "3e2cc8e5-f7be-4f0b-c91a-b9b4616ef099"
      },
      "execution_count": null,
      "outputs": [
        {
          "output_type": "stream",
          "name": "stdout",
          "text": [
            "Original A: {1, 3, 5}\n",
            "A after update() {0, 1, 2, 3, 4, 5, 6}\n"
          ]
        }
      ]
    },
    {
      "cell_type": "code",
      "source": [
        "# string\n",
        "alphabet = 'odd'\n",
        "\n",
        "# sets\n",
        "number1 = {1, 3}\n",
        "number2 = {2, 4}\n",
        "\n",
        "# add elements of the string to the set\n",
        "number1.update(alphabet)\n",
        "\n",
        "print('Set and strings:', number1)\n",
        "\n",
        "# dictionary\n",
        "key_value = {'key': 1, 'lock' : 2}\n",
        "\n",
        "# add keys of dictionary to the set\n",
        "number2.update(key_value)\n",
        "\n",
        "print('Set and dictionary keys:', number2)"
      ],
      "metadata": {
        "colab": {
          "base_uri": "https://localhost:8080/"
        },
        "id": "UWJjSw8n3rjK",
        "outputId": "aa362cad-15e6-4d75-833a-e8ad6b445ab8"
      },
      "execution_count": null,
      "outputs": [
        {
          "output_type": "stream",
          "name": "stdout",
          "text": [
            "Set and strings: {1, 3, 'o', 'd'}\n",
            "Set and dictionary keys: {2, 4, 'key', 'lock'}\n"
          ]
        }
      ]
    },
    {
      "cell_type": "markdown",
      "source": [
        "In the above example, we have used the update() method to add string and dictionary to the set.\n",
        "\n",
        "The method breaks down the string into individual characters and adds them to the set number1. Similarly, it adds the keys of the dictionary to the set number2."
      ],
      "metadata": {
        "id": "PE8t2Ulk38sF"
      }
    },
    {
      "cell_type": "markdown",
      "source": [
        "# Set isdisjoint()\n",
        "The isdisjoint() method returns True if two sets don't have any common items between them, i.e. they are disjoint. Else the returns False.\n",
        "\n",
        "isdisjoint() Syntax\n",
        "The syntax of the isdisjoint() method is:\n",
        "\n",
        "A.isdisjoint(B)\n",
        "Here, A and B are two sets.\n",
        "\n",
        "isdisjoint() Parameter\n",
        "The isdisjoint() method takes a single argument:\n",
        "\n",
        "B - a set that performs disjoint operation with set A\n",
        "We can also pass iterables like list, tuple, dictionary or string. In that case, isdisjoint() first converts the iterables to sets and then checks if they are disjoint.\n",
        "\n",
        "isdisjoint() Return Value\n",
        "The isdisjoint() method returns:\n",
        "\n",
        "True if set A and set B are disjoint\n",
        "False if set A and set B are not disjoint\n",
        "\n"
      ],
      "metadata": {
        "id": "J_T0218g4U3c"
      }
    },
    {
      "cell_type": "code",
      "source": [
        "A = {1, 2, 3}\n",
        "B = {4, 5, 6}\n",
        "C = {6, 7, 8}\n",
        "\n",
        "print('A and B are disjoint:', A.isdisjoint(B))\n",
        "print('B and C are disjoint:', B.isdisjoint(C))"
      ],
      "metadata": {
        "colab": {
          "base_uri": "https://localhost:8080/"
        },
        "id": "l43bIT644UH8",
        "outputId": "64245af3-5bff-4115-e283-baed06eaabe7"
      },
      "execution_count": null,
      "outputs": [
        {
          "output_type": "stream",
          "name": "stdout",
          "text": [
            "A and B are disjoint: True\n",
            "B and C are disjoint: False\n"
          ]
        }
      ]
    },
    {
      "cell_type": "markdown",
      "source": [
        "Set issubset()\n",
        "The issubset() method returns True if set A is the subset of B, i.e. if all the elements of set A are present in set B . Else, it returns False.\n",
        "\n",
        "issubset() Syntax\n",
        "The syntax of the issubset() method is:\n",
        "\n",
        "A.issubset(B)\n",
        "Here, A and B are two sets.\n",
        "\n",
        "issubset() Parameter\n",
        "The issubset() method takes a single argument:\n",
        "\n",
        "B - a set that is a superset of A, which means B has all the items of set A.\n",
        "issubset() Return Value\n",
        "The issubset() method returns:\n",
        "\n",
        "True- if set A is a subset of B\n",
        "False- if set A is not a subset of B"
      ],
      "metadata": {
        "id": "qZrN4iyk45le"
      }
    },
    {
      "cell_type": "code",
      "source": [
        "A = {1, 2, 3}\n",
        "B = {1, 2, 3, 4, 5}\n",
        "\n",
        "# all items of A are present in B\n",
        "print(A.issubset(B))\n",
        "\n",
        "# Output: True\n",
        "\n",
        "\n",
        "A = {'a', 'c', 'e'}\n",
        "B = {'a', 'b', 'c', 'd', 'e'}\n",
        "\n",
        "print('A is subset of B:', A.issubset(B))\n",
        "print('B is subset of A:', B.issubset(A))"
      ],
      "metadata": {
        "colab": {
          "base_uri": "https://localhost:8080/"
        },
        "id": "QfurULPn4435",
        "outputId": "d703d2ad-7b5a-475c-d475-052334a6aa18"
      },
      "execution_count": null,
      "outputs": [
        {
          "output_type": "stream",
          "name": "stdout",
          "text": [
            "True\n",
            "A is subset of B: True\n",
            "B is subset of A: False\n"
          ]
        }
      ]
    }
  ]
}